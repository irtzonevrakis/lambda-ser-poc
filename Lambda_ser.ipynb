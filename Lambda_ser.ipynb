{
 "cells": [
  {
   "cell_type": "markdown",
   "metadata": {},
   "source": [
    "# Serializing global lambda functions\n",
    "This code serializes a global lambda function, along with its dependencies, as long as they have been defined in the same file.\n",
    "\n",
    "It probably has many bugs, and serves as more of a proof-of-concept. It is also *VERY* unsafe by nature (notice the 'bare' exec/eval calls)\n",
    "\n",
    "If you need to do something similar please use a specialist library!\n",
    "\n",
    "To prevent the use of this code in anything of any importance, it is *NOT* released as open-source! As such, to protect the innocent:\n",
    "\n",
    "(C) 2021, All rights reserved."
   ]
  },
  {
   "cell_type": "code",
   "execution_count": 1,
   "metadata": {},
   "outputs": [],
   "source": [
    "def prepare_func_for_serialization(sdffasfasfaswedwdwedwejhdoweiod):\n",
    "    # The weird argument, variable, etc names are required because if a function matches something in-scope, \n",
    "    # then the in-scope object will be processed.\n",
    "    from inspect import getsource\n",
    "    def get_functions_called(sdffasfasfaswedw):\n",
    "        def dummyfun():\n",
    "            return True\n",
    "        from dis import Bytecode\n",
    "        bg = list(Bytecode(sdffasfasfaswedw))\n",
    "        rv = []\n",
    "        for l in range(0, len(bg)):\n",
    "            i = bg[l]\n",
    "            if i.opname == 'CALL_FUNCTION':\n",
    "                if bg[l-i.arg].opname == 'CALL_FUNCTION':\n",
    "                    continue\n",
    "                if 'BINARY' in bg[l-i.arg].opname:\n",
    "                    c = 2\n",
    "                    fn = bg[l-i.arg-c-1].argval\n",
    "                    while 'BINARY' in bg[l-i.arg-c].opname:\n",
    "                        c += 2\n",
    "                        fn = bg[l-i.arg-1-c].argval\n",
    "                else:\n",
    "                    fn = bg[l-i.arg-1].argval    \n",
    "                rv.extend([fn])\n",
    "                fobj = eval(fn)\n",
    "                if fobj.__module__==dummyfun.__module__:\n",
    "                    gfc = get_functions_called(eval(fn))\n",
    "                    if len(gfc) != 0:\n",
    "                        rv.extend(gfc)\n",
    "        return rv\n",
    "    weofhwidiowdiowccwecw = get_functions_called(sdffasfasfaswedwdwedwejhdoweiod)\n",
    "    pdfkw3opdj209ddwsdwxc = []\n",
    "    for fjweiodwojwoewodie in weofhwidiowdiowccwecw[::-1]:\n",
    "        pdfkw3opdj209ddwsdwxc.append(getsource(eval(fjweiodwojwoewodie)))\n",
    "    pdfkw3opdj209ddwsdwxc.append(getsource(sdffasfasfaswedwdwedwejhdoweiod))\n",
    "    return pdfkw3opdj209ddwsdwxc"
   ]
  },
  {
   "cell_type": "code",
   "execution_count": 2,
   "metadata": {},
   "outputs": [],
   "source": [
    "f = lambda x: x/2\n",
    "g = lambda x: f(x)\n",
    "h = lambda x,y: g(x)\n",
    "j= lambda x, y: min(h(x, y), y)"
   ]
  },
  {
   "cell_type": "code",
   "execution_count": 3,
   "metadata": {},
   "outputs": [],
   "source": [
    "st = prepare_func_for_serialization(j)"
   ]
  },
  {
   "cell_type": "code",
   "execution_count": 4,
   "metadata": {
    "scrolled": true
   },
   "outputs": [
    {
     "data": {
      "text/plain": [
       "['f = lambda x: x/2\\n',\n",
       " 'g = lambda x: f(x)\\n',\n",
       " 'h = lambda x,y: g(x)\\n',\n",
       " 'j= lambda x, y: min(h(x, y), y)\\n']"
      ]
     },
     "execution_count": 4,
     "metadata": {},
     "output_type": "execute_result"
    }
   ],
   "source": [
    "st"
   ]
  },
  {
   "cell_type": "code",
   "execution_count": 5,
   "metadata": {},
   "outputs": [],
   "source": [
    "import pickle\n",
    "st_2 = pickle.dumps(st)"
   ]
  },
  {
   "cell_type": "code",
   "execution_count": 6,
   "metadata": {},
   "outputs": [],
   "source": [
    "del f,g,h,j"
   ]
  },
  {
   "cell_type": "code",
   "execution_count": 7,
   "metadata": {},
   "outputs": [],
   "source": [
    "st_otherside = pickle.loads(st_2)"
   ]
  },
  {
   "cell_type": "code",
   "execution_count": 8,
   "metadata": {},
   "outputs": [],
   "source": [
    "for code in st_otherside:\n",
    "    exec(code)"
   ]
  },
  {
   "cell_type": "code",
   "execution_count": 9,
   "metadata": {},
   "outputs": [
    {
     "data": {
      "text/plain": [
       "2.0"
      ]
     },
     "execution_count": 9,
     "metadata": {},
     "output_type": "execute_result"
    }
   ],
   "source": [
    "f(4)"
   ]
  },
  {
   "cell_type": "code",
   "execution_count": 10,
   "metadata": {},
   "outputs": [
    {
     "data": {
      "text/plain": [
       "2.0"
      ]
     },
     "execution_count": 10,
     "metadata": {},
     "output_type": "execute_result"
    }
   ],
   "source": [
    "g(4)"
   ]
  },
  {
   "cell_type": "code",
   "execution_count": 11,
   "metadata": {},
   "outputs": [
    {
     "data": {
      "text/plain": [
       "2.0"
      ]
     },
     "execution_count": 11,
     "metadata": {},
     "output_type": "execute_result"
    }
   ],
   "source": [
    "h(4, 2)"
   ]
  },
  {
   "cell_type": "code",
   "execution_count": 12,
   "metadata": {},
   "outputs": [
    {
     "data": {
      "text/plain": [
       "1"
      ]
     },
     "execution_count": 12,
     "metadata": {},
     "output_type": "execute_result"
    }
   ],
   "source": [
    "j(4, 1)"
   ]
  },
  {
   "cell_type": "code",
   "execution_count": 13,
   "metadata": {},
   "outputs": [
    {
     "data": {
      "text/plain": [
       "['m = lambda x : 1\\n', 'n = lambda x : m(x**2)\\n']"
      ]
     },
     "execution_count": 13,
     "metadata": {},
     "output_type": "execute_result"
    }
   ],
   "source": [
    "m = lambda x : 1\n",
    "n = lambda x : m(x**2)\n",
    "prepare_func_for_serialization(n)"
   ]
  },
  {
   "cell_type": "code",
   "execution_count": 14,
   "metadata": {},
   "outputs": [
    {
     "data": {
      "text/plain": [
       "['m = lambda x : 1\\n', 'prepare_func_for_serialization(lambda k: m(k+2+3))\\n']"
      ]
     },
     "execution_count": 14,
     "metadata": {},
     "output_type": "execute_result"
    }
   ],
   "source": [
    "prepare_func_for_serialization(lambda k: m(k+2+3))"
   ]
  }
 ],
 "metadata": {
  "kernelspec": {
   "display_name": "Python 3",
   "language": "python",
   "name": "python3"
  },
  "language_info": {
   "codemirror_mode": {
    "name": "ipython",
    "version": 3
   },
   "file_extension": ".py",
   "mimetype": "text/x-python",
   "name": "python",
   "nbconvert_exporter": "python",
   "pygments_lexer": "ipython3",
   "version": "3.8.5"
  }
 },
 "nbformat": 4,
 "nbformat_minor": 2
}
